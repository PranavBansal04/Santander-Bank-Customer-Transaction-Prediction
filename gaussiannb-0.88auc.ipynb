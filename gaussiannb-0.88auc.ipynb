{
 "cells": [
  {
   "cell_type": "markdown",
   "metadata": {},
   "source": [
    "### Import Required Packages"
   ]
  },
  {
   "cell_type": "code",
   "execution_count": 1,
   "metadata": {
    "_cell_guid": "b1076dfc-b9ad-4769-8c92-a6c4dae69d19",
    "_uuid": "8f2839f25d086af736a60e9eeb907d3b93b6e0e5",
    "execution": {
     "iopub.execute_input": "2023-02-06T19:01:48.482905Z",
     "iopub.status.busy": "2023-02-06T19:01:48.482291Z",
     "iopub.status.idle": "2023-02-06T19:01:49.847035Z",
     "shell.execute_reply": "2023-02-06T19:01:49.845971Z",
     "shell.execute_reply.started": "2023-02-06T19:01:48.482847Z"
    }
   },
   "outputs": [],
   "source": [
    "import numpy as np\n",
    "import pandas as pd\n",
    "import seaborn as sns\n",
    "\n",
    "from sklearn.naive_bayes import GaussianNB\n",
    "from sklearn.metrics import roc_auc_score\n",
    "from sklearn.model_selection import KFold"
   ]
  },
  {
   "cell_type": "markdown",
   "metadata": {},
   "source": [
    "### Load The Data\n",
    "\n"
   ]
  },
  {
   "cell_type": "code",
   "execution_count": 2,
   "metadata": {
    "execution": {
     "iopub.execute_input": "2023-02-06T19:02:07.389140Z",
     "iopub.status.busy": "2023-02-06T19:02:07.388745Z",
     "iopub.status.idle": "2023-02-06T19:02:36.369130Z",
     "shell.execute_reply": "2023-02-06T19:02:36.367606Z",
     "shell.execute_reply.started": "2023-02-06T19:02:07.389060Z"
    }
   },
   "outputs": [],
   "source": [
    "train = pd.read_csv('../input/train.csv')\n",
    "test = pd.read_csv('../input/test.csv')\n",
    "features = [c for c in train.columns if c not in ['ID_code', 'target']]\n",
    "\n",
    "target = np.array(train['target'])\n",
    "test_id_code = test['ID_code']\n",
    "test = test[features]\n"
   ]
  },
  {
   "cell_type": "markdown",
   "metadata": {},
   "source": [
    "Let's look at class distribution:"
   ]
  },
  {
   "cell_type": "code",
   "execution_count": 3,
   "metadata": {
    "execution": {
     "iopub.execute_input": "2023-02-06T19:02:39.814575Z",
     "iopub.status.busy": "2023-02-06T19:02:39.814234Z",
     "iopub.status.idle": "2023-02-06T19:02:40.158352Z",
     "shell.execute_reply": "2023-02-06T19:02:40.156385Z",
     "shell.execute_reply.started": "2023-02-06T19:02:39.814524Z"
    }
   },
   "outputs": [
    {
     "data": {
      "text/plain": [
       "<matplotlib.axes._subplots.AxesSubplot at 0x7f013d37a240>"
      ]
     },
     "execution_count": 3,
     "metadata": {},
     "output_type": "execute_result"
    },
    {
     "data": {
      "image/png": "[encoded data removed]",
      "text/plain": [
       "<Figure size 432x288 with 1 Axes>"
      ]
     },
     "metadata": {},
     "output_type": "display_data"
    }
   ],
   "source": [
    "sns.countplot(target)"
   ]
  },
  {
   "cell_type": "markdown",
   "metadata": {},
   "source": [
    "Since the data in unbalanced, sample the data to enable the both of the classes has equal size of samples. Since the class 1 has almost 20000 samples, I picked the sample size as `n_sample = 20000`"
   ]
  },
  {
   "cell_type": "code",
   "execution_count": 4,
   "metadata": {
    "execution": {
     "iopub.execute_input": "2023-02-06T19:02:45.615545Z",
     "iopub.status.busy": "2023-02-06T19:02:45.614738Z",
     "iopub.status.idle": "2023-02-06T19:02:46.697856Z",
     "shell.execute_reply": "2023-02-06T19:02:46.696297Z",
     "shell.execute_reply.started": "2023-02-06T19:02:45.615466Z"
    }
   },
   "outputs": [
    {
     "data": {
      "text/plain": [
       "<matplotlib.axes._subplots.AxesSubplot at 0x7f013c6736a0>"
      ]
     },
     "execution_count": 4,
     "metadata": {},
     "output_type": "execute_result"
    },
    {
     "data": {
      "image/png": "[encoded data removed]",
      "text/plain": [
       "<Figure size 432x288 with 1 Axes>"
      ]
     },
     "metadata": {},
     "output_type": "display_data"
    }
   ],
   "source": [
    "# Subsample the data to balance each class sample size\n",
    "n_sample = 20000\n",
    "sub_train = train.groupby('target').apply(lambda x: x.sample(n_sample))\n",
    "sub_target = np.array(sub_train['target'])\n",
    "sub_train = np.array(sub_train.drop([\"ID_code\", \"target\"], axis=1))\n",
    "\n",
    "sns.countplot(sub_target)"
   ]
  },
  {
   "cell_type": "markdown",
   "metadata": {},
   "source": [
    "### Train GaussianNB()"
   ]
  },
  {
   "cell_type": "code",
   "execution_count": 5,
   "metadata": {
    "execution": {
     "iopub.execute_input": "2023-02-06T19:02:51.313789Z",
     "iopub.status.busy": "2023-02-06T19:02:51.313479Z",
     "iopub.status.idle": "2023-02-06T19:02:54.695223Z",
     "shell.execute_reply": "2023-02-06T19:02:54.694337Z",
     "shell.execute_reply.started": "2023-02-06T19:02:51.313746Z"
    }
   },
   "outputs": [
    {
     "name": "stdout",
     "output_type": "stream",
     "text": [
      "Fold: 1\n",
      "ACC: 0.8027, AUC: 0.8884\n",
      "Fold: 2\n",
      "ACC: 0.8064, AUC: 0.8902\n",
      "Fold: 3\n",
      "ACC: 0.8069, AUC: 0.8901\n",
      "Fold: 4\n",
      "ACC: 0.7970, AUC: 0.8808\n",
      "Fold: 5\n",
      "ACC: 0.8105, AUC: 0.8909\n"
     ]
    }
   ],
   "source": [
    "random_state = 15\n",
    "gnb = GaussianNB()\n",
    "\n",
    "folds = KFold(n_splits=5, shuffle=True, random_state=random_state)\n",
    "for fold_, (trn_idx, val_idx) in enumerate(folds.split(sub_train)):\n",
    "    print (\"Fold: %d\" % (fold_ + 1))\n",
    "\n",
    "    x_train, y_train = sub_train[trn_idx], sub_target[trn_idx]\n",
    "    x_val, y_val = sub_train[val_idx], sub_target[val_idx]\n",
    "\n",
    "    gnb.fit(x_train, y_train)\n",
    "    y_pred = gnb.predict(x_val)\n",
    "    y_score = gnb.predict_proba(x_val)[:,1]\n",
    "\n",
    "    acc = gnb.score(x_val, y_val)\n",
    "    auc = roc_auc_score(y_val, y_score)\n",
    "\n",
    "    print (\"ACC: %.4f, AUC: %.4f\" % (acc, auc))\n",
    "\n",
    "clf_preds_train = gnb.predict_proba(sub_train)[:,1]\n",
    "clf_preds_test = gnb.predict_proba(test)[:,1]"
   ]
  },
  {
   "cell_type": "markdown",
   "metadata": {},
   "source": [
    "### Evaulate and Submit the Results\n",
    "\n",
    "Let's look at a few samples on the predictions (results):"
   ]
  },
  {
   "cell_type": "code",
   "execution_count": 6,
   "metadata": {
    "_cell_guid": "79c7e3d0-c299-4dcb-8224-4455121ee9b0",
    "_uuid": "d629ff2d2480ee46fbb7e2d37f6b5fab8052498a",
    "execution": {
     "iopub.execute_input": "2023-02-06T19:02:58.436318Z",
     "iopub.status.busy": "2023-02-06T19:02:58.435640Z",
     "iopub.status.idle": "2023-02-06T19:02:58.473234Z",
     "shell.execute_reply": "2023-02-06T19:02:58.472146Z",
     "shell.execute_reply.started": "2023-02-06T19:02:58.436259Z"
    }
   },
   "outputs": [
    {
     "data": {
      "text/html": [
       "<div>\n",
       "<style scoped>\n",
       "    .dataframe tbody tr th:only-of-type {\n",
       "        vertical-align: middle;\n",
       "    }\n",
       "\n",
       "    .dataframe tbody tr th {\n",
       "        vertical-align: top;\n",
       "    }\n",
       "\n",
       "    .dataframe thead th {\n",
       "        text-align: right;\n",
       "    }\n",
       "</style>\n",
       "<table border=\"1\" class=\"dataframe\">\n",
       "  <thead>\n",
       "    <tr style=\"text-align: right;\">\n",
       "      <th></th>\n",
       "      <th>ID_code</th>\n",
       "      <th>target</th>\n",
       "    </tr>\n",
       "  </thead>\n",
       "  <tbody>\n",
       "    <tr>\n",
       "      <th>0</th>\n",
       "      <td>test_0</td>\n",
       "      <td>0.465374</td>\n",
       "    </tr>\n",
       "    <tr>\n",
       "      <th>1</th>\n",
       "      <td>test_1</td>\n",
       "      <td>0.739900</td>\n",
       "    </tr>\n",
       "    <tr>\n",
       "      <th>2</th>\n",
       "      <td>test_2</td>\n",
       "      <td>0.665926</td>\n",
       "    </tr>\n",
       "    <tr>\n",
       "      <th>3</th>\n",
       "      <td>test_3</td>\n",
       "      <td>0.507126</td>\n",
       "    </tr>\n",
       "    <tr>\n",
       "      <th>4</th>\n",
       "      <td>test_4</td>\n",
       "      <td>0.264557</td>\n",
       "    </tr>\n",
       "    <tr>\n",
       "      <th>5</th>\n",
       "      <td>test_5</td>\n",
       "      <td>0.009009</td>\n",
       "    </tr>\n",
       "    <tr>\n",
       "      <th>6</th>\n",
       "      <td>test_6</td>\n",
       "      <td>0.039519</td>\n",
       "    </tr>\n",
       "    <tr>\n",
       "      <th>7</th>\n",
       "      <td>test_7</td>\n",
       "      <td>0.703150</td>\n",
       "    </tr>\n",
       "    <tr>\n",
       "      <th>8</th>\n",
       "      <td>test_8</td>\n",
       "      <td>0.019514</td>\n",
       "    </tr>\n",
       "    <tr>\n",
       "      <th>9</th>\n",
       "      <td>test_9</td>\n",
       "      <td>0.042506</td>\n",
       "    </tr>\n",
       "  </tbody>\n",
       "</table>\n",
       "</div>"
      ],
      "text/plain": [
       "  ID_code    target\n",
       "0  test_0  0.465374\n",
       "1  test_1  0.739900\n",
       "2  test_2  0.665926\n",
       "3  test_3  0.507126\n",
       "4  test_4  0.264557\n",
       "5  test_5  0.009009\n",
       "6  test_6  0.039519\n",
       "7  test_7  0.703150\n",
       "8  test_8  0.019514\n",
       "9  test_9  0.042506"
      ]
     },
     "execution_count": 6,
     "metadata": {},
     "output_type": "execute_result"
    }
   ],
   "source": [
    "frames = [test_id_code,  pd.DataFrame(clf_preds_test)]\n",
    "results = pd.concat(frames, axis=1)\n",
    "results.rename(columns = { results.columns[1]: \"target\" }, inplace=True)\n",
    "results[0:10]"
   ]
  },
  {
   "cell_type": "markdown",
   "metadata": {},
   "source": [
    "Let's check the prediction basic statistics:"
   ]
  },
  {
   "cell_type": "code",
   "execution_count": 7,
   "metadata": {
    "execution": {
     "iopub.execute_input": "2023-02-06T19:03:03.970531Z",
     "iopub.status.busy": "2023-02-06T19:03:03.970173Z",
     "iopub.status.idle": "2023-02-06T19:03:03.985207Z",
     "shell.execute_reply": "2023-02-06T19:03:03.984285Z",
     "shell.execute_reply.started": "2023-02-06T19:03:03.970474Z"
    }
   },
   "outputs": [
    {
     "data": {
      "text/plain": [
       "150484"
      ]
     },
     "execution_count": 7,
     "metadata": {},
     "output_type": "execute_result"
    }
   ],
   "source": [
    "len(results[results['target']<=0.5])"
   ]
  },
  {
   "cell_type": "code",
   "execution_count": 8,
   "metadata": {
    "execution": {
     "iopub.execute_input": "2023-02-06T19:03:08.482473Z",
     "iopub.status.busy": "2023-02-06T19:03:08.481738Z",
     "iopub.status.idle": "2023-02-06T19:03:08.522930Z",
     "shell.execute_reply": "2023-02-06T19:03:08.521839Z",
     "shell.execute_reply.started": "2023-02-06T19:03:08.482046Z"
    }
   },
   "outputs": [
    {
     "data": {
      "text/html": [
       "<div>\n",
       "<style scoped>\n",
       "    .dataframe tbody tr th:only-of-type {\n",
       "        vertical-align: middle;\n",
       "    }\n",
       "\n",
       "    .dataframe tbody tr th {\n",
       "        vertical-align: top;\n",
       "    }\n",
       "\n",
       "    .dataframe thead th {\n",
       "        text-align: right;\n",
       "    }\n",
       "</style>\n",
       "<table border=\"1\" class=\"dataframe\">\n",
       "  <thead>\n",
       "    <tr style=\"text-align: right;\">\n",
       "      <th></th>\n",
       "      <th>target</th>\n",
       "    </tr>\n",
       "  </thead>\n",
       "  <tbody>\n",
       "    <tr>\n",
       "      <th>count</th>\n",
       "      <td>200000.000000</td>\n",
       "    </tr>\n",
       "    <tr>\n",
       "      <th>mean</th>\n",
       "      <td>0.317306</td>\n",
       "    </tr>\n",
       "    <tr>\n",
       "      <th>std</th>\n",
       "      <td>0.272275</td>\n",
       "    </tr>\n",
       "    <tr>\n",
       "      <th>min</th>\n",
       "      <td>0.000221</td>\n",
       "    </tr>\n",
       "    <tr>\n",
       "      <th>25%</th>\n",
       "      <td>0.088703</td>\n",
       "    </tr>\n",
       "    <tr>\n",
       "      <th>50%</th>\n",
       "      <td>0.229588</td>\n",
       "    </tr>\n",
       "    <tr>\n",
       "      <th>75%</th>\n",
       "      <td>0.496727</td>\n",
       "    </tr>\n",
       "    <tr>\n",
       "      <th>max</th>\n",
       "      <td>0.999864</td>\n",
       "    </tr>\n",
       "  </tbody>\n",
       "</table>\n",
       "</div>"
      ],
      "text/plain": [
       "              target\n",
       "count  200000.000000\n",
       "mean        0.317306\n",
       "std         0.272275\n",
       "min         0.000221\n",
       "25%         0.088703\n",
       "50%         0.229588\n",
       "75%         0.496727\n",
       "max         0.999864"
      ]
     },
     "execution_count": 8,
     "metadata": {},
     "output_type": "execute_result"
    }
   ],
   "source": [
    "pd.DataFrame(results).describe()"
   ]
  },
  {
   "cell_type": "markdown",
   "metadata": {},
   "source": [
    "Lastly, create a submission file:"
   ]
  },
  {
   "cell_type": "code",
   "execution_count": 9,
   "metadata": {
    "execution": {
     "iopub.execute_input": "2023-02-06T19:03:14.693075Z",
     "iopub.status.busy": "2023-02-06T19:03:14.692321Z",
     "iopub.status.idle": "2023-02-06T19:03:15.615524Z",
     "shell.execute_reply": "2023-02-06T19:03:15.614371Z",
     "shell.execute_reply.started": "2023-02-06T19:03:14.692999Z"
    }
   },
   "outputs": [],
   "source": [
    "results.to_csv(\"submission.csv\", index=False)"
   ]
  }
 ],
 "metadata": {
  "kernelspec": {
   "display_name": "Python 3",
   "language": "python",
   "name": "python3"
  },
  "language_info": {
   "codemirror_mode": {
    "name": "ipython",
    "version": 3
   },
   "file_extension": ".py",
   "mimetype": "text/x-python",
   "name": "python",
   "nbconvert_exporter": "python",
   "pygments_lexer": "ipython3",
   "version": "3.6.4"
  }
 },
 "nbformat": 4,
 "nbformat_minor": 4
}
